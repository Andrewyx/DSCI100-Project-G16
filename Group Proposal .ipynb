{
 "cells": [
  {
   "cell_type": "markdown",
   "id": "5be6f523-3dd3-4986-8257-efef22aa39b6",
   "metadata": {},
   "source": [
    "# Group Proposal - Predicting Following Day Rainfall in Australia\n"
   ]
  },
  {
   "cell_type": "markdown",
   "id": "417263d3-f9fa-4c08-a2a6-edd753621240",
   "metadata": {},
   "source": [
    "## Introduction"
   ]
  },
  {
   "cell_type": "markdown",
   "id": "a37294a2-a740-4cd2-a0f1-4405b5cd9447",
   "metadata": {},
   "source": [
    "#### Background"
   ]
  },
  {
   "cell_type": "markdown",
   "id": "89b61ecc-be09-451d-928d-6f2ecce3e041",
   "metadata": {},
   "source": [
    "Meteorological data has been collected and used to predict weather conditions ever since we have had the means to do so - since 1869! It helps one plan their day ahead and deal with the given weather conditions accordingly.By predicting a rainy day, lots of variables need to be considered, such as wind, humidity, temperature, etc. "
   ]
  },
  {
   "cell_type": "markdown",
   "id": "604e8b47-a89d-4687-8f77-594d953e389f",
   "metadata": {},
   "source": [
    "#### Central Question"
   ]
  },
  {
   "cell_type": "markdown",
   "id": "de14f7d3-d2b0-4142-8b44-33f88e4b7150",
   "metadata": {},
   "source": [
    "Will it rain tomorrow for a given region in Australia based on a set of meteorological characteristics?"
   ]
  },
  {
   "cell_type": "markdown",
   "id": "7b233643-3281-44d7-a0be-66c1a482f5cb",
   "metadata": {},
   "source": [
    "#### Dataset"
   ]
  },
  {
   "cell_type": "markdown",
   "id": "4c596fc8-bda0-4483-a5c5-ee84616c645c",
   "metadata": {},
   "source": [
    "The dataset that we will use is the “Rain in Australia” dataset by Joe Young and Adam Young. This dataset contains meteorological data across 10 years in Australia from 2007/10/31 to 2017/6/24 in various regions, collected by weather stations across Australia. The dataset contains variables such as weather conditions - wind speed, wind direction and temperature, as well the amount of precipitation in the form of rain on any given day."
   ]
  },
  {
   "cell_type": "markdown",
   "id": "1c5509b3-762f-41b8-87f6-a0d47842ed3b",
   "metadata": {},
   "source": [
    "## Preliminiary Exploratory Data Analysis"
   ]
  },
  {
   "cell_type": "markdown",
   "id": "fdce73f5-d758-4cb5-aa6b-2da3a41b4a94",
   "metadata": {},
   "source": [
    "To aid in our decision for predictor variables, we can visualize which columns are present with the most valid data (least NA columns). A larger sample of data would allow us to reduce the impact of factors such as random error in the observation process and improve the overall quality of the analysis. We will select the three major cities we want to analyze and remove the categorical  variables from our dataset."
   ]
  },
  {
   "cell_type": "code",
   "execution_count": 7,
   "id": "1c0e47f2-466f-4970-a889-e8e98b35d17f",
   "metadata": {},
   "outputs": [],
   "source": [
    "#load tidyverse\n",
    "library(tidyverse)"
   ]
  },
  {
   "cell_type": "code",
   "execution_count": 8,
   "id": "cdc307dd-cba3-4b69-809f-0a14c4ef3fbc",
   "metadata": {},
   "outputs": [
    {
     "name": "stderr",
     "output_type": "stream",
     "text": [
      "\u001b[1mRows: \u001b[22m\u001b[34m145460\u001b[39m \u001b[1mColumns: \u001b[22m\u001b[34m23\u001b[39m\n",
      "\u001b[36m──\u001b[39m \u001b[1mColumn specification\u001b[22m \u001b[36m────────────────────────────────────────────────────────\u001b[39m\n",
      "\u001b[1mDelimiter:\u001b[22m \",\"\n",
      "\u001b[31mchr\u001b[39m   (6): Location, WindGustDir, WindDir9am, WindDir3pm, RainToday, RainTom...\n",
      "\u001b[32mdbl\u001b[39m  (16): MinTemp, MaxTemp, Rainfall, Evaporation, Sunshine, WindGustSpeed,...\n",
      "\u001b[34mdate\u001b[39m  (1): Date\n",
      "\n",
      "\u001b[36mℹ\u001b[39m Use `spec()` to retrieve the full column specification for this data.\n",
      "\u001b[36mℹ\u001b[39m Specify the column types or set `show_col_types = FALSE` to quiet this message.\n"
     ]
    }
   ],
   "source": [
    "#load data into r\n",
    "weather_data_raw <- read_csv(\"weatherAUS.csv\")"
   ]
  },
  {
   "cell_type": "code",
   "execution_count": 10,
   "id": "9f863965-5e68-4a13-b928-19080cb522ea",
   "metadata": {},
   "outputs": [
    {
     "data": {
      "text/html": [
       "<table class=\"dataframe\">\n",
       "<caption>A data.frame: 16 × 2</caption>\n",
       "<thead>\n",
       "\t<tr><th scope=col>measurement</th><th scope=col>count</th></tr>\n",
       "\t<tr><th scope=col>&lt;chr&gt;</th><th scope=col>&lt;dbl&gt;</th></tr>\n",
       "</thead>\n",
       "<tbody>\n",
       "\t<tr><td>MaxTemp      </td><td>144199</td></tr>\n",
       "\t<tr><td>MinTemp      </td><td>143975</td></tr>\n",
       "\t<tr><td>WindSpeed9am </td><td>143693</td></tr>\n",
       "\t<tr><td>Temp9am      </td><td>143693</td></tr>\n",
       "\t<tr><td>Humidity9am  </td><td>142806</td></tr>\n",
       "\t<tr><td>WindSpeed3pm </td><td>142398</td></tr>\n",
       "\t<tr><td>Rainfall     </td><td>142199</td></tr>\n",
       "\t<tr><td>Temp3pm      </td><td>141851</td></tr>\n",
       "\t<tr><td>Humidity3pm  </td><td>140953</td></tr>\n",
       "\t<tr><td>WindGustSpeed</td><td>135197</td></tr>\n",
       "\t<tr><td>Pressure3pm  </td><td>130432</td></tr>\n",
       "\t<tr><td>Pressure9am  </td><td>130395</td></tr>\n",
       "\t<tr><td>Cloud9am     </td><td> 89572</td></tr>\n",
       "\t<tr><td>Cloud3pm     </td><td> 86102</td></tr>\n",
       "\t<tr><td>Evaporation  </td><td> 82670</td></tr>\n",
       "\t<tr><td>Sunshine     </td><td> 75625</td></tr>\n",
       "</tbody>\n",
       "</table>\n"
      ],
      "text/latex": [
       "A data.frame: 16 × 2\n",
       "\\begin{tabular}{ll}\n",
       " measurement & count\\\\\n",
       " <chr> & <dbl>\\\\\n",
       "\\hline\n",
       "\t MaxTemp       & 144199\\\\\n",
       "\t MinTemp       & 143975\\\\\n",
       "\t WindSpeed9am  & 143693\\\\\n",
       "\t Temp9am       & 143693\\\\\n",
       "\t Humidity9am   & 142806\\\\\n",
       "\t WindSpeed3pm  & 142398\\\\\n",
       "\t Rainfall      & 142199\\\\\n",
       "\t Temp3pm       & 141851\\\\\n",
       "\t Humidity3pm   & 140953\\\\\n",
       "\t WindGustSpeed & 135197\\\\\n",
       "\t Pressure3pm   & 130432\\\\\n",
       "\t Pressure9am   & 130395\\\\\n",
       "\t Cloud9am      &  89572\\\\\n",
       "\t Cloud3pm      &  86102\\\\\n",
       "\t Evaporation   &  82670\\\\\n",
       "\t Sunshine      &  75625\\\\\n",
       "\\end{tabular}\n"
      ],
      "text/markdown": [
       "\n",
       "A data.frame: 16 × 2\n",
       "\n",
       "| measurement &lt;chr&gt; | count &lt;dbl&gt; |\n",
       "|---|---|\n",
       "| MaxTemp       | 144199 |\n",
       "| MinTemp       | 143975 |\n",
       "| WindSpeed9am  | 143693 |\n",
       "| Temp9am       | 143693 |\n",
       "| Humidity9am   | 142806 |\n",
       "| WindSpeed3pm  | 142398 |\n",
       "| Rainfall      | 142199 |\n",
       "| Temp3pm       | 141851 |\n",
       "| Humidity3pm   | 140953 |\n",
       "| WindGustSpeed | 135197 |\n",
       "| Pressure3pm   | 130432 |\n",
       "| Pressure9am   | 130395 |\n",
       "| Cloud9am      |  89572 |\n",
       "| Cloud3pm      |  86102 |\n",
       "| Evaporation   |  82670 |\n",
       "| Sunshine      |  75625 |\n",
       "\n"
      ],
      "text/plain": [
       "   measurement   count \n",
       "1  MaxTemp       144199\n",
       "2  MinTemp       143975\n",
       "3  WindSpeed9am  143693\n",
       "4  Temp9am       143693\n",
       "5  Humidity9am   142806\n",
       "6  WindSpeed3pm  142398\n",
       "7  Rainfall      142199\n",
       "8  Temp3pm       141851\n",
       "9  Humidity3pm   140953\n",
       "10 WindGustSpeed 135197\n",
       "11 Pressure3pm   130432\n",
       "12 Pressure9am   130395\n",
       "13 Cloud9am       89572\n",
       "14 Cloud3pm       86102\n",
       "15 Evaporation    82670\n",
       "16 Sunshine       75625"
      ]
     },
     "metadata": {},
     "output_type": "display_data"
    }
   ],
   "source": [
    "# Select three cities for analysis\n",
    "\n",
    "options(repr.plot.width =14, repr.plot.height = 8) \n",
    "count <- weather_data_raw |>\n",
    "            # filter(Location==\"Sydney\" | Location==\"Melbourne\" | Location==\"Canberra\") |>\n",
    "            select(-WindGustDir, -WindDir9am, -WindDir3pm, -RainToday, -RainTomorrow, -Date, -Location) \n",
    "\n",
    "# Summarizes each row by counting non N/A cells. Renames the variables afterwards after conversion to data frame\n",
    "output <- as.data.frame((colSums(!is.na(count)))) \n",
    "output <- cbind(rownames(output), output)\n",
    "rownames(output) <- NULL\n",
    "colnames(output) <- c(\"measurement\",\"count\")\n",
    "output <- arrange(output, desc(count))\n",
    "output"
   ]
  },
  {
   "cell_type": "markdown",
   "id": "c02ec292-ea60-440d-b6c1-ecfd9ecde24b",
   "metadata": {},
   "source": [
    "## Methods"
   ]
  },
  {
   "cell_type": "markdown",
   "id": "7de15bf5-ee15-4da6-a905-cbb6027a985a",
   "metadata": {},
   "source": [
    "#### Explain how you will conduct either your data analysis and which variables/columns you will use"
   ]
  },
  {
   "cell_type": "markdown",
   "id": "abe8a0f1-d894-4031-ae31-327c29af30a9",
   "metadata": {},
   "source": [
    "The columns we plan to use are those quantifying the day’s weather with the least number of NA-observation counts. This includes minimum temperature, max temperature, rainfall level, humidity and windspeed. This has been proved by listing out the rows containing NA value with colSums!(is.na) function.\n"
   ]
  },
  {
   "cell_type": "markdown",
   "id": "419d6f87-ae8e-4bce-b734-b0cd781e954d",
   "metadata": {},
   "source": [
    "#### Describe at least one way that you will visualize the results"
   ]
  },
  {
   "cell_type": "markdown",
   "id": "3f4b5a2b-7f57-4225-ba79-4d11759e7517",
   "metadata": {},
   "source": []
  },
  {
   "cell_type": "markdown",
   "id": "a726ebcd-f07a-4cb5-b762-2dcaed7c40ed",
   "metadata": {},
   "source": [
    "## Expected Outcomes and Significance:"
   ]
  },
  {
   "cell_type": "markdown",
   "id": "e102a928-d4e5-4f5a-8178-cd0b60bce6cd",
   "metadata": {},
   "source": [
    "#### Expected Outcomes"
   ]
  },
  {
   "cell_type": "markdown",
   "id": "1f8e8be5-64c0-46a5-971d-62d1699d2064",
   "metadata": {},
   "source": [
    "We are expecting to create a design with an arithmetic trend with a specific date’s information to determine whether the next day rains. Therefore, the expected outcome would be accurately predicting the occurrence of rain on the next day."
   ]
  },
  {
   "cell_type": "markdown",
   "id": "1341b668-56fa-45d7-b1a3-8c8f382decad",
   "metadata": {},
   "source": [
    "#### Significance of Investigation"
   ]
  },
  {
   "cell_type": "markdown",
   "id": "db890a49-0e6d-4fb9-9cd1-933b43325c9f",
   "metadata": {},
   "source": [
    "The significance of this analysis lies in the immense impact that weather and in particular, rain, has on society. Being able to predict rain is not only beneficial for day-to-day life but quintessential for industries such as agriculture, tourism, and urban development"
   ]
  },
  {
   "cell_type": "markdown",
   "id": "b21b9de4-7019-441d-93d7-f7aaa22615ef",
   "metadata": {},
   "source": [
    "#### Extended/Further Questions"
   ]
  },
  {
   "cell_type": "markdown",
   "id": "1976b078-0d41-40cd-909a-42abc9da0340",
   "metadata": {},
   "source": [
    "Investigating precipitation further in the future can prompt inquiries on how rain patterns have evolved throughout the last decade. Furthermore, this investigation can also prompt further analysis into how accurate our model can be when compared to modern circumstances."
   ]
  },
  {
   "cell_type": "code",
   "execution_count": null,
   "id": "636f34b7-1196-456f-ac43-28c4437609ab",
   "metadata": {},
   "outputs": [],
   "source": []
  }
 ],
 "metadata": {
  "kernelspec": {
   "display_name": "R",
   "language": "R",
   "name": "ir"
  },
  "language_info": {
   "codemirror_mode": "r",
   "file_extension": ".r",
   "mimetype": "text/x-r-source",
   "name": "R",
   "pygments_lexer": "r",
   "version": "4.3.1"
  }
 },
 "nbformat": 4,
 "nbformat_minor": 5
}
