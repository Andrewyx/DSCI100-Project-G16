{
 "cells": [
  {
   "cell_type": "markdown",
   "id": "5be6f523-3dd3-4986-8257-efef22aa39b6",
   "metadata": {},
   "source": [
    "# Group Proposal - Predicting Following Day Rainfall in Australia\n"
   ]
  },
  {
   "cell_type": "markdown",
   "id": "417263d3-f9fa-4c08-a2a6-edd753621240",
   "metadata": {},
   "source": [
    "## 1.0 Introduction"
   ]
  },
  {
   "cell_type": "markdown",
   "id": "a37294a2-a740-4cd2-a0f1-4405b5cd9447",
   "metadata": {},
   "source": [
    "#### 1.1 Background"
   ]
  },
  {
   "cell_type": "markdown",
   "id": "89b61ecc-be09-451d-928d-6f2ecce3e041",
   "metadata": {},
   "source": [
    "Meteorological data has been collected and used to predict weather conditions ever since we have had the means to do so - since 1869! It helps one plan their day ahead and deal with the given weather conditions accordingly.By predicting a rainy day, lots of variables need to be considered, such as wind, humidity, temperature, etc. "
   ]
  },
  {
   "cell_type": "markdown",
   "id": "604e8b47-a89d-4687-8f77-594d953e389f",
   "metadata": {},
   "source": [
    "#### 1.2 Central Question"
   ]
  },
  {
   "cell_type": "markdown",
   "id": "de14f7d3-d2b0-4142-8b44-33f88e4b7150",
   "metadata": {},
   "source": [
    "Will it rain tomorrow in Australia based on a set of meteorological characteristics from the previous day?"
   ]
  },
  {
   "cell_type": "markdown",
   "id": "7b233643-3281-44d7-a0be-66c1a482f5cb",
   "metadata": {},
   "source": [
    "#### 1.3 Dataset"
   ]
  },
  {
   "cell_type": "markdown",
   "id": "4c596fc8-bda0-4483-a5c5-ee84616c645c",
   "metadata": {},
   "source": [
    "The dataset that we will use is the “Rain in Australia” dataset by Joe Young and Adam Young. This dataset contains meteorological data across 10 years in Australia from 2007/10/31 to 2017/6/24 in various regions, collected by weather stations across Australia. The dataset contains variables such as weather conditions - wind speed, wind direction and temperature, as well the amount of precipitation in the form of rain on any given day."
   ]
  },
  {
   "cell_type": "markdown",
   "id": "279b13f8-9c90-446c-be99-7fa3d02eccb7",
   "metadata": {},
   "source": [
    "## 2.0 Preliminiary Exploratory Data Analysis"
   ]
  },
  {
   "cell_type": "markdown",
   "id": "33056bc1-ab80-4a4a-baf3-322df4601f53",
   "metadata": {},
   "source": [
    "#### 2.1 Wrangling"
   ]
  },
  {
   "cell_type": "markdown",
   "id": "fdce73f5-d758-4cb5-aa6b-2da3a41b4a94",
   "metadata": {},
   "source": [
    "To aid in our decision for predictor variables, we can visualize which columns are present with the most valid data (least NA columns). A larger sample of data would allow us to reduce the impact of factors such as random error in the observation process and improve the overall quality of the analysis. "
   ]
  },
  {
   "cell_type": "code",
   "execution_count": 1,
   "id": "1c0e47f2-466f-4970-a889-e8e98b35d17f",
   "metadata": {},
   "outputs": [
    {
     "name": "stderr",
     "output_type": "stream",
     "text": [
      "── \u001b[1mAttaching core tidyverse packages\u001b[22m ──────────────────────── tidyverse 2.0.0 ──\n",
      "\u001b[32m✔\u001b[39m \u001b[34mdplyr    \u001b[39m 1.1.3     \u001b[32m✔\u001b[39m \u001b[34mreadr    \u001b[39m 2.1.4\n",
      "\u001b[32m✔\u001b[39m \u001b[34mforcats  \u001b[39m 1.0.0     \u001b[32m✔\u001b[39m \u001b[34mstringr  \u001b[39m 1.5.0\n",
      "\u001b[32m✔\u001b[39m \u001b[34mggplot2  \u001b[39m 3.4.4     \u001b[32m✔\u001b[39m \u001b[34mtibble   \u001b[39m 3.2.1\n",
      "\u001b[32m✔\u001b[39m \u001b[34mlubridate\u001b[39m 1.9.3     \u001b[32m✔\u001b[39m \u001b[34mtidyr    \u001b[39m 1.3.0\n",
      "\u001b[32m✔\u001b[39m \u001b[34mpurrr    \u001b[39m 1.0.2     \n",
      "── \u001b[1mConflicts\u001b[22m ────────────────────────────────────────── tidyverse_conflicts() ──\n",
      "\u001b[31m✖\u001b[39m \u001b[34mdplyr\u001b[39m::\u001b[32mfilter()\u001b[39m masks \u001b[34mstats\u001b[39m::filter()\n",
      "\u001b[31m✖\u001b[39m \u001b[34mdplyr\u001b[39m::\u001b[32mlag()\u001b[39m    masks \u001b[34mstats\u001b[39m::lag()\n",
      "\u001b[36mℹ\u001b[39m Use the conflicted package (\u001b[3m\u001b[34m<http://conflicted.r-lib.org/>\u001b[39m\u001b[23m) to force all conflicts to become errors\n",
      "── \u001b[1mAttaching packages\u001b[22m ────────────────────────────────────── tidymodels 1.1.1 ──\n",
      "\n",
      "\u001b[32m✔\u001b[39m \u001b[34mbroom       \u001b[39m 1.0.5     \u001b[32m✔\u001b[39m \u001b[34mrsample     \u001b[39m 1.2.0\n",
      "\u001b[32m✔\u001b[39m \u001b[34mdials       \u001b[39m 1.2.0     \u001b[32m✔\u001b[39m \u001b[34mtune        \u001b[39m 1.1.2\n",
      "\u001b[32m✔\u001b[39m \u001b[34minfer       \u001b[39m 1.0.5     \u001b[32m✔\u001b[39m \u001b[34mworkflows   \u001b[39m 1.1.3\n",
      "\u001b[32m✔\u001b[39m \u001b[34mmodeldata   \u001b[39m 1.2.0     \u001b[32m✔\u001b[39m \u001b[34mworkflowsets\u001b[39m 1.0.1\n",
      "\u001b[32m✔\u001b[39m \u001b[34mparsnip     \u001b[39m 1.1.1     \u001b[32m✔\u001b[39m \u001b[34myardstick   \u001b[39m 1.2.0\n",
      "\u001b[32m✔\u001b[39m \u001b[34mrecipes     \u001b[39m 1.0.8     \n",
      "\n",
      "── \u001b[1mConflicts\u001b[22m ───────────────────────────────────────── tidymodels_conflicts() ──\n",
      "\u001b[31m✖\u001b[39m \u001b[34mscales\u001b[39m::\u001b[32mdiscard()\u001b[39m masks \u001b[34mpurrr\u001b[39m::discard()\n",
      "\u001b[31m✖\u001b[39m \u001b[34mdplyr\u001b[39m::\u001b[32mfilter()\u001b[39m   masks \u001b[34mstats\u001b[39m::filter()\n",
      "\u001b[31m✖\u001b[39m \u001b[34mrecipes\u001b[39m::\u001b[32mfixed()\u001b[39m  masks \u001b[34mstringr\u001b[39m::fixed()\n",
      "\u001b[31m✖\u001b[39m \u001b[34mdplyr\u001b[39m::\u001b[32mlag()\u001b[39m      masks \u001b[34mstats\u001b[39m::lag()\n",
      "\u001b[31m✖\u001b[39m \u001b[34myardstick\u001b[39m::\u001b[32mspec()\u001b[39m masks \u001b[34mreadr\u001b[39m::spec()\n",
      "\u001b[31m✖\u001b[39m \u001b[34mrecipes\u001b[39m::\u001b[32mstep()\u001b[39m   masks \u001b[34mstats\u001b[39m::step()\n",
      "\u001b[34m•\u001b[39m Use \u001b[32mtidymodels_prefer()\u001b[39m to resolve common conflicts.\n",
      "\n"
     ]
    }
   ],
   "source": [
    "#load tidyverse\n",
    "library(tidyverse)\n",
    "library(tidymodels)"
   ]
  },
  {
   "cell_type": "code",
   "execution_count": 2,
   "id": "cdc307dd-cba3-4b69-809f-0a14c4ef3fbc",
   "metadata": {},
   "outputs": [
    {
     "name": "stderr",
     "output_type": "stream",
     "text": [
      "\u001b[1mRows: \u001b[22m\u001b[34m145460\u001b[39m \u001b[1mColumns: \u001b[22m\u001b[34m23\u001b[39m\n",
      "\u001b[36m──\u001b[39m \u001b[1mColumn specification\u001b[22m \u001b[36m────────────────────────────────────────────────────────\u001b[39m\n",
      "\u001b[1mDelimiter:\u001b[22m \",\"\n",
      "\u001b[31mchr\u001b[39m   (6): Location, WindGustDir, WindDir9am, WindDir3pm, RainToday, RainTom...\n",
      "\u001b[32mdbl\u001b[39m  (16): MinTemp, MaxTemp, Rainfall, Evaporation, Sunshine, WindGustSpeed,...\n",
      "\u001b[34mdate\u001b[39m  (1): Date\n",
      "\n",
      "\u001b[36mℹ\u001b[39m Use `spec()` to retrieve the full column specification for this data.\n",
      "\u001b[36mℹ\u001b[39m Specify the column types or set `show_col_types = FALSE` to quiet this message.\n"
     ]
    },
    {
     "name": "stdout",
     "output_type": "stream",
     "text": [
      "Rows: 145,460\n",
      "Columns: 23\n",
      "$ Date          \u001b[3m\u001b[90m<date>\u001b[39m\u001b[23m 2008-12-01, 2008-12-02, 2008-12-03, 2008-12-04, 2008-12…\n",
      "$ Location      \u001b[3m\u001b[90m<chr>\u001b[39m\u001b[23m \"Albury\", \"Albury\", \"Albury\", \"Albury\", \"Albury\", \"Albur…\n",
      "$ MinTemp       \u001b[3m\u001b[90m<dbl>\u001b[39m\u001b[23m 13.4, 7.4, 12.9, 9.2, 17.5, 14.6, 14.3, 7.7, 9.7, 13.1, …\n",
      "$ MaxTemp       \u001b[3m\u001b[90m<dbl>\u001b[39m\u001b[23m 22.9, 25.1, 25.7, 28.0, 32.3, 29.7, 25.0, 26.7, 31.9, 30…\n",
      "$ Rainfall      \u001b[3m\u001b[90m<dbl>\u001b[39m\u001b[23m 0.6, 0.0, 0.0, 0.0, 1.0, 0.2, 0.0, 0.0, 0.0, 1.4, 0.0, 2…\n",
      "$ Evaporation   \u001b[3m\u001b[90m<dbl>\u001b[39m\u001b[23m NA, NA, NA, NA, NA, NA, NA, NA, NA, NA, NA, NA, NA, NA, …\n",
      "$ Sunshine      \u001b[3m\u001b[90m<dbl>\u001b[39m\u001b[23m NA, NA, NA, NA, NA, NA, NA, NA, NA, NA, NA, NA, NA, NA, …\n",
      "$ WindGustDir   \u001b[3m\u001b[90m<chr>\u001b[39m\u001b[23m \"W\", \"WNW\", \"WSW\", \"NE\", \"W\", \"WNW\", \"W\", \"W\", \"NNW\", \"W…\n",
      "$ WindGustSpeed \u001b[3m\u001b[90m<dbl>\u001b[39m\u001b[23m 44, 44, 46, 24, 41, 56, 50, 35, 80, 28, 30, 31, 61, 44, …\n",
      "$ WindDir9am    \u001b[3m\u001b[90m<chr>\u001b[39m\u001b[23m \"W\", \"NNW\", \"W\", \"SE\", \"ENE\", \"W\", \"SW\", \"SSE\", \"SE\", \"S…\n",
      "$ WindDir3pm    \u001b[3m\u001b[90m<chr>\u001b[39m\u001b[23m \"WNW\", \"WSW\", \"WSW\", \"E\", \"NW\", \"W\", \"W\", \"W\", \"NW\", \"SS…\n",
      "$ WindSpeed9am  \u001b[3m\u001b[90m<dbl>\u001b[39m\u001b[23m 20, 4, 19, 11, 7, 19, 20, 6, 7, 15, 17, 15, 28, 24, 4, N…\n",
      "$ WindSpeed3pm  \u001b[3m\u001b[90m<dbl>\u001b[39m\u001b[23m 24, 22, 26, 9, 20, 24, 24, 17, 28, 11, 6, 13, 28, 20, 30…\n",
      "$ Humidity9am   \u001b[3m\u001b[90m<dbl>\u001b[39m\u001b[23m 71, 44, 38, 45, 82, 55, 49, 48, 42, 58, 48, 89, 76, 65, …\n",
      "$ Humidity3pm   \u001b[3m\u001b[90m<dbl>\u001b[39m\u001b[23m 22, 25, 30, 16, 33, 23, 19, 19, 9, 27, 22, 91, 93, 43, 3…\n",
      "$ Pressure9am   \u001b[3m\u001b[90m<dbl>\u001b[39m\u001b[23m 1007.7, 1010.6, 1007.6, 1017.6, 1010.8, 1009.2, 1009.6, …\n",
      "$ Pressure3pm   \u001b[3m\u001b[90m<dbl>\u001b[39m\u001b[23m 1007.1, 1007.8, 1008.7, 1012.8, 1006.0, 1005.4, 1008.2, …\n",
      "$ Cloud9am      \u001b[3m\u001b[90m<dbl>\u001b[39m\u001b[23m 8, NA, NA, NA, 7, NA, 1, NA, NA, NA, NA, 8, 8, NA, NA, 0…\n",
      "$ Cloud3pm      \u001b[3m\u001b[90m<dbl>\u001b[39m\u001b[23m NA, NA, 2, NA, 8, NA, NA, NA, NA, NA, NA, 8, 8, 7, NA, N…\n",
      "$ Temp9am       \u001b[3m\u001b[90m<dbl>\u001b[39m\u001b[23m 16.9, 17.2, 21.0, 18.1, 17.8, 20.6, 18.1, 16.3, 18.3, 20…\n",
      "$ Temp3pm       \u001b[3m\u001b[90m<dbl>\u001b[39m\u001b[23m 21.8, 24.3, 23.2, 26.5, 29.7, 28.9, 24.6, 25.5, 30.2, 28…\n",
      "$ RainToday     \u001b[3m\u001b[90m<chr>\u001b[39m\u001b[23m \"No\", \"No\", \"No\", \"No\", \"No\", \"No\", \"No\", \"No\", \"No\", \"Y…\n",
      "$ RainTomorrow  \u001b[3m\u001b[90m<chr>\u001b[39m\u001b[23m \"No\", \"No\", \"No\", \"No\", \"No\", \"No\", \"No\", \"No\", \"Yes\", \"…\n"
     ]
    }
   ],
   "source": [
    "#load data into r\n",
    "weather_data_raw <- read_csv(\"weatherAUS.csv\")\n",
    "glimpse(weather_data_raw)"
   ]
  },
  {
   "cell_type": "code",
   "execution_count": 4,
   "id": "409532e6-76c4-4604-88b5-3d6693681fe4",
   "metadata": {},
   "outputs": [
    {
     "data": {
      "text/html": [
       "<table class=\"dataframe\">\n",
       "<caption>A data.frame: 23 × 2</caption>\n",
       "<thead>\n",
       "\t<tr><th scope=col>measurement</th><th scope=col>count</th></tr>\n",
       "\t<tr><th scope=col>&lt;chr&gt;</th><th scope=col>&lt;dbl&gt;</th></tr>\n",
       "</thead>\n",
       "<tbody>\n",
       "\t<tr><td>Date         </td><td>145460</td></tr>\n",
       "\t<tr><td>Location     </td><td>145460</td></tr>\n",
       "\t<tr><td>MaxTemp      </td><td>144199</td></tr>\n",
       "\t<tr><td>MinTemp      </td><td>143975</td></tr>\n",
       "\t<tr><td>WindSpeed9am </td><td>143693</td></tr>\n",
       "\t<tr><td>Temp9am      </td><td>143693</td></tr>\n",
       "\t<tr><td>Humidity9am  </td><td>142806</td></tr>\n",
       "\t<tr><td>WindSpeed3pm </td><td>142398</td></tr>\n",
       "\t<tr><td>Rainfall     </td><td>142199</td></tr>\n",
       "\t<tr><td>RainToday    </td><td>142199</td></tr>\n",
       "\t<tr><td>RainTomorrow </td><td>142193</td></tr>\n",
       "\t<tr><td>Temp3pm      </td><td>141851</td></tr>\n",
       "\t<tr><td>WindDir3pm   </td><td>141232</td></tr>\n",
       "\t<tr><td>Humidity3pm  </td><td>140953</td></tr>\n",
       "\t<tr><td>WindGustSpeed</td><td>135197</td></tr>\n",
       "\t<tr><td>WindGustDir  </td><td>135134</td></tr>\n",
       "\t<tr><td>WindDir9am   </td><td>134894</td></tr>\n",
       "\t<tr><td>Pressure3pm  </td><td>130432</td></tr>\n",
       "\t<tr><td>Pressure9am  </td><td>130395</td></tr>\n",
       "\t<tr><td>Cloud9am     </td><td> 89572</td></tr>\n",
       "\t<tr><td>Cloud3pm     </td><td> 86102</td></tr>\n",
       "\t<tr><td>Evaporation  </td><td> 82670</td></tr>\n",
       "\t<tr><td>Sunshine     </td><td> 75625</td></tr>\n",
       "</tbody>\n",
       "</table>\n"
      ],
      "text/latex": [
       "A data.frame: 23 × 2\n",
       "\\begin{tabular}{ll}\n",
       " measurement & count\\\\\n",
       " <chr> & <dbl>\\\\\n",
       "\\hline\n",
       "\t Date          & 145460\\\\\n",
       "\t Location      & 145460\\\\\n",
       "\t MaxTemp       & 144199\\\\\n",
       "\t MinTemp       & 143975\\\\\n",
       "\t WindSpeed9am  & 143693\\\\\n",
       "\t Temp9am       & 143693\\\\\n",
       "\t Humidity9am   & 142806\\\\\n",
       "\t WindSpeed3pm  & 142398\\\\\n",
       "\t Rainfall      & 142199\\\\\n",
       "\t RainToday     & 142199\\\\\n",
       "\t RainTomorrow  & 142193\\\\\n",
       "\t Temp3pm       & 141851\\\\\n",
       "\t WindDir3pm    & 141232\\\\\n",
       "\t Humidity3pm   & 140953\\\\\n",
       "\t WindGustSpeed & 135197\\\\\n",
       "\t WindGustDir   & 135134\\\\\n",
       "\t WindDir9am    & 134894\\\\\n",
       "\t Pressure3pm   & 130432\\\\\n",
       "\t Pressure9am   & 130395\\\\\n",
       "\t Cloud9am      &  89572\\\\\n",
       "\t Cloud3pm      &  86102\\\\\n",
       "\t Evaporation   &  82670\\\\\n",
       "\t Sunshine      &  75625\\\\\n",
       "\\end{tabular}\n"
      ],
      "text/markdown": [
       "\n",
       "A data.frame: 23 × 2\n",
       "\n",
       "| measurement &lt;chr&gt; | count &lt;dbl&gt; |\n",
       "|---|---|\n",
       "| Date          | 145460 |\n",
       "| Location      | 145460 |\n",
       "| MaxTemp       | 144199 |\n",
       "| MinTemp       | 143975 |\n",
       "| WindSpeed9am  | 143693 |\n",
       "| Temp9am       | 143693 |\n",
       "| Humidity9am   | 142806 |\n",
       "| WindSpeed3pm  | 142398 |\n",
       "| Rainfall      | 142199 |\n",
       "| RainToday     | 142199 |\n",
       "| RainTomorrow  | 142193 |\n",
       "| Temp3pm       | 141851 |\n",
       "| WindDir3pm    | 141232 |\n",
       "| Humidity3pm   | 140953 |\n",
       "| WindGustSpeed | 135197 |\n",
       "| WindGustDir   | 135134 |\n",
       "| WindDir9am    | 134894 |\n",
       "| Pressure3pm   | 130432 |\n",
       "| Pressure9am   | 130395 |\n",
       "| Cloud9am      |  89572 |\n",
       "| Cloud3pm      |  86102 |\n",
       "| Evaporation   |  82670 |\n",
       "| Sunshine      |  75625 |\n",
       "\n"
      ],
      "text/plain": [
       "   measurement   count \n",
       "1  Date          145460\n",
       "2  Location      145460\n",
       "3  MaxTemp       144199\n",
       "4  MinTemp       143975\n",
       "5  WindSpeed9am  143693\n",
       "6  Temp9am       143693\n",
       "7  Humidity9am   142806\n",
       "8  WindSpeed3pm  142398\n",
       "9  Rainfall      142199\n",
       "10 RainToday     142199\n",
       "11 RainTomorrow  142193\n",
       "12 Temp3pm       141851\n",
       "13 WindDir3pm    141232\n",
       "14 Humidity3pm   140953\n",
       "15 WindGustSpeed 135197\n",
       "16 WindGustDir   135134\n",
       "17 WindDir9am    134894\n",
       "18 Pressure3pm   130432\n",
       "19 Pressure9am   130395\n",
       "20 Cloud9am       89572\n",
       "21 Cloud3pm       86102\n",
       "22 Evaporation    82670\n",
       "23 Sunshine       75625"
      ]
     },
     "metadata": {},
     "output_type": "display_data"
    }
   ],
   "source": [
    "# Summarizes each row by counting non N/A cells. Renames the variables afterwards after conversion to data frame\n",
    "no_na_data <- as.data.frame((colSums(!is.na(weather_data_raw)))) \n",
    "no_na_data <- cbind(rownames(no_na_data), no_na_data)\n",
    "rownames(no_na_data) <- NULL\n",
    "colnames(no_na_data) <- c(\"measurement\",\"count\")\n",
    "\n",
    "count_tbl <- arrange(no_na_data, desc(count))\n",
    "count_tbl"
   ]
  },
  {
   "cell_type": "code",
   "execution_count": 5,
   "id": "41ec041b-ffa1-473a-94fa-172464d4cea4",
   "metadata": {},
   "outputs": [],
   "source": [
    "# Select three cities for analysis\n",
    "\n",
    "options(repr.plot.width =14, repr.plot.height = 8) \n",
    "\n",
    "#Remove categorical variables & variables with too many N/A values (Wrangle Data)\n",
    "weather_data_clean <- weather_data_raw |>\n",
    "                            select(-WindGustDir, -WindDir9am, -WindDir3pm, -RainToday, -Date, -Location) |>\n",
    "                            select(-Sunshine, -Evaporation, -Cloud3pm, -Cloud9am)"
   ]
  },
  {
   "cell_type": "code",
   "execution_count": 6,
   "id": "de02662f-f9d3-4476-bf68-c607e9dac2ad",
   "metadata": {},
   "outputs": [],
   "source": [
    "# Split training and testing sets\n",
    "weather_split <- initial_split(weather_data_clean, prop = 0.75, strata = RainTomorrow)\n",
    "weather_train <- training(weather_split)\n",
    "weather_test <- testing(weather_split)"
   ]
  },
  {
   "cell_type": "markdown",
   "id": "62176d93-0cbf-40a1-a949-d4a84a3b1fab",
   "metadata": {},
   "source": [
    "#### 2.2 Summarizing New Non N/A Rows\n",
    "We can now check the distributions of usable rows within our training data by summarizing and counting the number of non N/A rows within our training data."
   ]
  },
  {
   "cell_type": "code",
   "execution_count": 7,
   "id": "2ed2a04c-4a2f-4bda-80a3-d08ece8e6be2",
   "metadata": {},
   "outputs": [
    {
     "data": {
      "text/html": [
       "<table class=\"dataframe\">\n",
       "<caption>A data.frame: 13 × 2</caption>\n",
       "<thead>\n",
       "\t<tr><th scope=col>measurement</th><th scope=col>count</th></tr>\n",
       "\t<tr><th scope=col>&lt;chr&gt;</th><th scope=col>&lt;dbl&gt;</th></tr>\n",
       "</thead>\n",
       "<tbody>\n",
       "\t<tr><td>MaxTemp      </td><td>108149</td></tr>\n",
       "\t<tr><td>MinTemp      </td><td>107988</td></tr>\n",
       "\t<tr><td>Temp9am      </td><td>107781</td></tr>\n",
       "\t<tr><td>WindSpeed9am </td><td>107770</td></tr>\n",
       "\t<tr><td>Humidity9am  </td><td>107108</td></tr>\n",
       "\t<tr><td>WindSpeed3pm </td><td>106777</td></tr>\n",
       "\t<tr><td>Rainfall     </td><td>106666</td></tr>\n",
       "\t<tr><td>RainTomorrow </td><td>106638</td></tr>\n",
       "\t<tr><td>Temp3pm      </td><td>106394</td></tr>\n",
       "\t<tr><td>Humidity3pm  </td><td>105716</td></tr>\n",
       "\t<tr><td>WindGustSpeed</td><td>101383</td></tr>\n",
       "\t<tr><td>Pressure3pm  </td><td> 97827</td></tr>\n",
       "\t<tr><td>Pressure9am  </td><td> 97800</td></tr>\n",
       "</tbody>\n",
       "</table>\n"
      ],
      "text/latex": [
       "A data.frame: 13 × 2\n",
       "\\begin{tabular}{ll}\n",
       " measurement & count\\\\\n",
       " <chr> & <dbl>\\\\\n",
       "\\hline\n",
       "\t MaxTemp       & 108149\\\\\n",
       "\t MinTemp       & 107988\\\\\n",
       "\t Temp9am       & 107781\\\\\n",
       "\t WindSpeed9am  & 107770\\\\\n",
       "\t Humidity9am   & 107108\\\\\n",
       "\t WindSpeed3pm  & 106777\\\\\n",
       "\t Rainfall      & 106666\\\\\n",
       "\t RainTomorrow  & 106638\\\\\n",
       "\t Temp3pm       & 106394\\\\\n",
       "\t Humidity3pm   & 105716\\\\\n",
       "\t WindGustSpeed & 101383\\\\\n",
       "\t Pressure3pm   &  97827\\\\\n",
       "\t Pressure9am   &  97800\\\\\n",
       "\\end{tabular}\n"
      ],
      "text/markdown": [
       "\n",
       "A data.frame: 13 × 2\n",
       "\n",
       "| measurement &lt;chr&gt; | count &lt;dbl&gt; |\n",
       "|---|---|\n",
       "| MaxTemp       | 108149 |\n",
       "| MinTemp       | 107988 |\n",
       "| Temp9am       | 107781 |\n",
       "| WindSpeed9am  | 107770 |\n",
       "| Humidity9am   | 107108 |\n",
       "| WindSpeed3pm  | 106777 |\n",
       "| Rainfall      | 106666 |\n",
       "| RainTomorrow  | 106638 |\n",
       "| Temp3pm       | 106394 |\n",
       "| Humidity3pm   | 105716 |\n",
       "| WindGustSpeed | 101383 |\n",
       "| Pressure3pm   |  97827 |\n",
       "| Pressure9am   |  97800 |\n",
       "\n"
      ],
      "text/plain": [
       "   measurement   count \n",
       "1  MaxTemp       108149\n",
       "2  MinTemp       107988\n",
       "3  Temp9am       107781\n",
       "4  WindSpeed9am  107770\n",
       "5  Humidity9am   107108\n",
       "6  WindSpeed3pm  106777\n",
       "7  Rainfall      106666\n",
       "8  RainTomorrow  106638\n",
       "9  Temp3pm       106394\n",
       "10 Humidity3pm   105716\n",
       "11 WindGustSpeed 101383\n",
       "12 Pressure3pm    97827\n",
       "13 Pressure9am    97800"
      ]
     },
     "metadata": {},
     "output_type": "display_data"
    }
   ],
   "source": [
    "# Summarizes each row by counting non N/A cells. Renames the variables afterwards after conversion to data frame\n",
    "no_na_data <- as.data.frame((colSums(!is.na(weather_train)))) \n",
    "no_na_data <- cbind(rownames(no_na_data), no_na_data)\n",
    "rownames(no_na_data) <- NULL\n",
    "colnames(no_na_data) <- c(\"measurement\",\"count\")\n",
    "\n",
    "count_tbl <- arrange(no_na_data, desc(count))\n",
    "count_tbl"
   ]
  },
  {
   "cell_type": "code",
   "execution_count": 8,
   "id": "12766209-c2b7-4cf1-8cd5-8101c4f70597",
   "metadata": {},
   "outputs": [
    {
     "name": "stdout",
     "output_type": "stream",
     "text": [
      "Rows: 109,095\n",
      "Columns: 13\n",
      "$ MinTemp       \u001b[3m\u001b[90m<dbl>\u001b[39m\u001b[23m 13.4, 12.9, 9.2, 14.6, 14.3, 7.7, 13.1, 12.6, 11.2, 9.8,…\n",
      "$ MaxTemp       \u001b[3m\u001b[90m<dbl>\u001b[39m\u001b[23m 22.9, 25.7, 28.0, 29.7, 25.0, 26.7, 30.1, 21.0, 22.5, 25…\n",
      "$ Rainfall      \u001b[3m\u001b[90m<dbl>\u001b[39m\u001b[23m 0.6, 0.0, 0.0, 0.2, 0.0, 0.0, 1.4, 3.6, 10.6, 0.0, 0.0, …\n",
      "$ WindGustSpeed \u001b[3m\u001b[90m<dbl>\u001b[39m\u001b[23m 44, 46, 24, 56, 50, 35, 28, 44, 43, 26, 24, 43, 41, 43, …\n",
      "$ WindSpeed9am  \u001b[3m\u001b[90m<dbl>\u001b[39m\u001b[23m 20, 19, 11, 19, 20, 6, 15, 24, 24, 17, 9, 17, 19, 4, 9, …\n",
      "$ WindSpeed3pm  \u001b[3m\u001b[90m<dbl>\u001b[39m\u001b[23m 24, 26, 9, 24, 24, 17, 11, 20, 17, 6, 9, 22, 20, 19, 13,…\n",
      "$ Humidity9am   \u001b[3m\u001b[90m<dbl>\u001b[39m\u001b[23m 71, 38, 45, 55, 49, 48, 58, 65, 47, 45, 56, 38, 54, 49, …\n",
      "$ Humidity3pm   \u001b[3m\u001b[90m<dbl>\u001b[39m\u001b[23m 22, 30, 16, 23, 19, 19, 27, 43, 32, 26, 28, 28, 24, 17, …\n",
      "$ Pressure9am   \u001b[3m\u001b[90m<dbl>\u001b[39m\u001b[23m 1007.7, 1007.6, 1017.6, 1009.2, 1009.6, 1013.4, 1007.0, …\n",
      "$ Pressure3pm   \u001b[3m\u001b[90m<dbl>\u001b[39m\u001b[23m 1007.1, 1008.7, 1012.8, 1005.4, 1008.2, 1010.1, 1005.7, …\n",
      "$ Temp9am       \u001b[3m\u001b[90m<dbl>\u001b[39m\u001b[23m 16.9, 21.0, 18.1, 20.6, 18.1, 16.3, 20.1, 15.8, 15.5, 15…\n",
      "$ Temp3pm       \u001b[3m\u001b[90m<dbl>\u001b[39m\u001b[23m 21.8, 23.2, 26.5, 28.9, 24.6, 25.5, 28.2, 19.8, 21.0, 23…\n",
      "$ RainTomorrow  \u001b[3m\u001b[90m<chr>\u001b[39m\u001b[23m \"No\", \"No\", \"No\", \"No\", \"No\", \"No\", \"No\", \"No\", \"No\", \"N…\n"
     ]
    }
   ],
   "source": [
    "glimpse(weather_train)"
   ]
  },
  {
   "cell_type": "code",
   "execution_count": 29,
   "id": "7cc5fdb7-6974-40b4-9246-6422449b8a50",
   "metadata": {},
   "outputs": [
    {
     "data": {
      "text/html": [
       "<table class=\"dataframe\">\n",
       "<caption>A data.frame: 1 × 13</caption>\n",
       "<thead>\n",
       "\t<tr><th scope=col>Mean_MinTemp</th><th scope=col>Mean_MaxTemp</th><th scope=col>Mean_Rainfall</th><th scope=col>Mean_WindGustSpeed</th><th scope=col>Mean_WindSpeed9am</th><th scope=col>Mean_WindSpeed3pm</th><th scope=col>Mean_Humidity9am</th><th scope=col>Mean_Humidity3pm</th><th scope=col>Mean_Pressure9am</th><th scope=col>Mean_Pressure3pm</th><th scope=col>Mean_Temp9am</th><th scope=col>Mean_Temp3pm</th><th scope=col>Rows_with_Missing_Data</th></tr>\n",
       "\t<tr><th scope=col>&lt;dbl&gt;</th><th scope=col>&lt;dbl&gt;</th><th scope=col>&lt;dbl&gt;</th><th scope=col>&lt;dbl&gt;</th><th scope=col>&lt;dbl&gt;</th><th scope=col>&lt;dbl&gt;</th><th scope=col>&lt;dbl&gt;</th><th scope=col>&lt;dbl&gt;</th><th scope=col>&lt;dbl&gt;</th><th scope=col>&lt;dbl&gt;</th><th scope=col>&lt;dbl&gt;</th><th scope=col>&lt;dbl&gt;</th><th scope=col>&lt;int&gt;</th></tr>\n",
       "</thead>\n",
       "<tbody>\n",
       "\t<tr><td>12.19227</td><td>23.21563</td><td>2.386528</td><td>40.04278</td><td>14.04813</td><td>18.6783</td><td>68.94697</td><td>51.5764</td><td>1017.664</td><td>1015.273</td><td>16.98097</td><td>21.67591</td><td>19373</td></tr>\n",
       "</tbody>\n",
       "</table>\n"
      ],
      "text/latex": [
       "A data.frame: 1 × 13\n",
       "\\begin{tabular}{lllllllllllll}\n",
       " Mean\\_MinTemp & Mean\\_MaxTemp & Mean\\_Rainfall & Mean\\_WindGustSpeed & Mean\\_WindSpeed9am & Mean\\_WindSpeed3pm & Mean\\_Humidity9am & Mean\\_Humidity3pm & Mean\\_Pressure9am & Mean\\_Pressure3pm & Mean\\_Temp9am & Mean\\_Temp3pm & Rows\\_with\\_Missing\\_Data\\\\\n",
       " <dbl> & <dbl> & <dbl> & <dbl> & <dbl> & <dbl> & <dbl> & <dbl> & <dbl> & <dbl> & <dbl> & <dbl> & <int>\\\\\n",
       "\\hline\n",
       "\t 12.19227 & 23.21563 & 2.386528 & 40.04278 & 14.04813 & 18.6783 & 68.94697 & 51.5764 & 1017.664 & 1015.273 & 16.98097 & 21.67591 & 19373\\\\\n",
       "\\end{tabular}\n"
      ],
      "text/markdown": [
       "\n",
       "A data.frame: 1 × 13\n",
       "\n",
       "| Mean_MinTemp &lt;dbl&gt; | Mean_MaxTemp &lt;dbl&gt; | Mean_Rainfall &lt;dbl&gt; | Mean_WindGustSpeed &lt;dbl&gt; | Mean_WindSpeed9am &lt;dbl&gt; | Mean_WindSpeed3pm &lt;dbl&gt; | Mean_Humidity9am &lt;dbl&gt; | Mean_Humidity3pm &lt;dbl&gt; | Mean_Pressure9am &lt;dbl&gt; | Mean_Pressure3pm &lt;dbl&gt; | Mean_Temp9am &lt;dbl&gt; | Mean_Temp3pm &lt;dbl&gt; | Rows_with_Missing_Data &lt;int&gt; |\n",
       "|---|---|---|---|---|---|---|---|---|---|---|---|---|\n",
       "| 12.19227 | 23.21563 | 2.386528 | 40.04278 | 14.04813 | 18.6783 | 68.94697 | 51.5764 | 1017.664 | 1015.273 | 16.98097 | 21.67591 | 19373 |\n",
       "\n"
      ],
      "text/plain": [
       "  Mean_MinTemp Mean_MaxTemp Mean_Rainfall Mean_WindGustSpeed Mean_WindSpeed9am\n",
       "1 12.19227     23.21563     2.386528      40.04278           14.04813         \n",
       "  Mean_WindSpeed3pm Mean_Humidity9am Mean_Humidity3pm Mean_Pressure9am\n",
       "1 18.6783           68.94697         51.5764          1017.664        \n",
       "  Mean_Pressure3pm Mean_Temp9am Mean_Temp3pm Rows_with_Missing_Data\n",
       "1 1015.273         16.98097     21.67591     19373                 "
      ]
     },
     "metadata": {},
     "output_type": "display_data"
    },
    {
     "data": {
      "text/html": [
       "<table class=\"dataframe\">\n",
       "<caption>A tibble: 3 × 2</caption>\n",
       "<thead>\n",
       "\t<tr><th scope=col>RainTomorrow</th><th scope=col>count</th></tr>\n",
       "\t<tr><th scope=col>&lt;chr&gt;</th><th scope=col>&lt;int&gt;</th></tr>\n",
       "</thead>\n",
       "<tbody>\n",
       "\t<tr><td>No </td><td>82734</td></tr>\n",
       "\t<tr><td>Yes</td><td>23904</td></tr>\n",
       "\t<tr><td>NA </td><td> 2457</td></tr>\n",
       "</tbody>\n",
       "</table>\n"
      ],
      "text/latex": [
       "A tibble: 3 × 2\n",
       "\\begin{tabular}{ll}\n",
       " RainTomorrow & count\\\\\n",
       " <chr> & <int>\\\\\n",
       "\\hline\n",
       "\t No  & 82734\\\\\n",
       "\t Yes & 23904\\\\\n",
       "\t NA  &  2457\\\\\n",
       "\\end{tabular}\n"
      ],
      "text/markdown": [
       "\n",
       "A tibble: 3 × 2\n",
       "\n",
       "| RainTomorrow &lt;chr&gt; | count &lt;int&gt; |\n",
       "|---|---|\n",
       "| No  | 82734 |\n",
       "| Yes | 23904 |\n",
       "| NA  |  2457 |\n",
       "\n"
      ],
      "text/plain": [
       "  RainTomorrow count\n",
       "1 No           82734\n",
       "2 Yes          23904\n",
       "3 NA            2457"
      ]
     },
     "metadata": {},
     "output_type": "display_data"
    }
   ],
   "source": [
    "# Summary table\n",
    "summary_weather_train <- weather_train|>\n",
    "  summarize(\n",
    "    Mean_MinTemp = mean(MinTemp, na.rm = TRUE),\n",
    "    Mean_MaxTemp = mean(MaxTemp, na.rm = TRUE),\n",
    "    Mean_Rainfall = mean(Rainfall, na.rm = TRUE),\n",
    "    Mean_WindGustSpeed = mean(WindGustSpeed, na.rm = TRUE),\n",
    "    Mean_WindSpeed9am = mean(WindSpeed9am, na.rm = TRUE),\n",
    "    Mean_WindSpeed3pm = mean(WindSpeed3pm, na.rm = TRUE),\n",
    "    Mean_Humidity9am = mean(Humidity9am, na.rm = TRUE),\n",
    "    Mean_Humidity3pm = mean(Humidity3pm, na.rm = TRUE),\n",
    "    Mean_Pressure9am = mean(Pressure9am, na.rm = TRUE),\n",
    "    Mean_Pressure3pm = mean(Pressure3pm, na.rm = TRUE),\n",
    "    Mean_Temp9am = mean(Temp9am, na.rm = TRUE),\n",
    "    Mean_Temp3pm = mean(Temp3pm, na.rm = TRUE),    \n",
    "    Rows_with_Missing_Data = sum(rowSums(is.na(weather_train)) > 0))|>\n",
    "    as.data.frame()\n",
    "summary_weather_train\n",
    "\n",
    "summary_num_obs<-weather_train|>\n",
    "  group_by(RainTomorrow)|>\n",
    "  summarize(count=n())\n",
    "summary_num_obs"
   ]
  },
  {
   "cell_type": "markdown",
   "id": "c02ec292-ea60-440d-b6c1-ecfd9ecde24b",
   "metadata": {},
   "source": [
    "## 3.0 Methods"
   ]
  },
  {
   "cell_type": "markdown",
   "id": "7de15bf5-ee15-4da6-a905-cbb6027a985a",
   "metadata": {},
   "source": [
    "#### 3.1 Explain how you will conduct either your data analysis and which variables/columns you will use"
   ]
  },
  {
   "cell_type": "markdown",
   "id": "abe8a0f1-d894-4031-ae31-327c29af30a9",
   "metadata": {},
   "source": [
    "The columns we plan to use are those quantifying the day’s weather with the least number of NA-observation counts. This includes minimum temperature, max temperature, rainfall level, humidity ,and windspeed. This has been proved by listing out the rows containing NA value with colSums!(is.na) function. Also, we will be plotting facet_grid histograms to compare the distributions of each predictor variable. To note as well, initial splitting by cross-validation has been done for the training results.\n"
   ]
  },
  {
   "cell_type": "markdown",
   "id": "419d6f87-ae8e-4bce-b734-b0cd781e954d",
   "metadata": {},
   "source": [
    "#### 3.2 Describe at least one way that you will visualize the results"
   ]
  },
  {
   "cell_type": "markdown",
   "id": "3f4b5a2b-7f57-4225-ba79-4d11759e7517",
   "metadata": {},
   "source": [
    "We will make scatterplots to visualize the relationship between each pair of variables, such as “rainfall level” and “humidity”, and colored by the target variable to see if there is any pattern distinguishing whether it rains tomorrow or not."
   ]
  },
  {
   "cell_type": "markdown",
   "id": "a726ebcd-f07a-4cb5-b762-2dcaed7c40ed",
   "metadata": {},
   "source": [
    "## 4.0 Expected Outcomes and Significance:"
   ]
  },
  {
   "cell_type": "markdown",
   "id": "e102a928-d4e5-4f5a-8178-cd0b60bce6cd",
   "metadata": {},
   "source": [
    "#### 4.1 Expected Outcomes"
   ]
  },
  {
   "cell_type": "markdown",
   "id": "1f8e8be5-64c0-46a5-971d-62d1699d2064",
   "metadata": {},
   "source": [
    "We are expecting to create a design with an arithmetic trend with a specific date’s information to determine whether the next day rains. Therefore, the expected outcome would be accurately predicting the occurrence of rain on the next day."
   ]
  },
  {
   "cell_type": "markdown",
   "id": "1341b668-56fa-45d7-b1a3-8c8f382decad",
   "metadata": {},
   "source": [
    "#### 4.2 Significance of Investigation"
   ]
  },
  {
   "cell_type": "markdown",
   "id": "db890a49-0e6d-4fb9-9cd1-933b43325c9f",
   "metadata": {},
   "source": [
    "The significance of this analysis lies in the immense impact that weather and in particular, rain, has on society. Being able to predict rain is not only beneficial for day-to-day life but quintessential for industries such as agriculture, tourism, and urban development"
   ]
  },
  {
   "cell_type": "markdown",
   "id": "b21b9de4-7019-441d-93d7-f7aaa22615ef",
   "metadata": {},
   "source": [
    "#### 4.3 Extended/Further Questions"
   ]
  },
  {
   "cell_type": "markdown",
   "id": "1976b078-0d41-40cd-909a-42abc9da0340",
   "metadata": {},
   "source": [
    "Investigating precipitation further in the future can prompt inquiries on how rain patterns have evolved throughout the last decade. Furthermore, this investigation can also prompt further analysis into how accurate our model can be when compared to modern circumstances."
   ]
  },
  {
   "cell_type": "code",
   "execution_count": null,
   "id": "636f34b7-1196-456f-ac43-28c4437609ab",
   "metadata": {},
   "outputs": [],
   "source": []
  }
 ],
 "metadata": {
  "kernelspec": {
   "display_name": "R",
   "language": "R",
   "name": "ir"
  },
  "language_info": {
   "codemirror_mode": "r",
   "file_extension": ".r",
   "mimetype": "text/x-r-source",
   "name": "R",
   "pygments_lexer": "r",
   "version": "4.3.1"
  }
 },
 "nbformat": 4,
 "nbformat_minor": 5
}
