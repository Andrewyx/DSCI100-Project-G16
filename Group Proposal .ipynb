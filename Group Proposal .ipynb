{
 "cells": [
  {
   "cell_type": "markdown",
   "id": "5be6f523-3dd3-4986-8257-efef22aa39b6",
   "metadata": {},
   "source": [
    "# Group Proposal - Predicting Following Day Rainfall in Australia\n"
   ]
  },
  {
   "cell_type": "markdown",
   "id": "417263d3-f9fa-4c08-a2a6-edd753621240",
   "metadata": {},
   "source": [
    "## 1.0 Introduction"
   ]
  },
  {
   "cell_type": "markdown",
   "id": "a37294a2-a740-4cd2-a0f1-4405b5cd9447",
   "metadata": {},
   "source": [
    "#### 1.1 Background"
   ]
  },
  {
   "cell_type": "markdown",
   "id": "89b61ecc-be09-451d-928d-6f2ecce3e041",
   "metadata": {},
   "source": [
    "Meteorological data has been collected and used to predict weather conditions ever since we have had the means to do so - since 1869! It helps one plan their day ahead and deal with the given weather conditions accordingly.By predicting a rainy day, lots of variables need to be considered, such as wind, humidity, temperature, etc. "
   ]
  },
  {
   "cell_type": "markdown",
   "id": "604e8b47-a89d-4687-8f77-594d953e389f",
   "metadata": {},
   "source": [
    "#### 1.2 Central Question"
   ]
  },
  {
   "cell_type": "markdown",
   "id": "de14f7d3-d2b0-4142-8b44-33f88e4b7150",
   "metadata": {},
   "source": [
    "Will it rain tomorrow in Australia based on a set of meteorological characteristics from the previous day?"
   ]
  },
  {
   "cell_type": "markdown",
   "id": "7b233643-3281-44d7-a0be-66c1a482f5cb",
   "metadata": {},
   "source": [
    "#### 1.3 Dataset"
   ]
  },
  {
   "cell_type": "markdown",
   "id": "4c596fc8-bda0-4483-a5c5-ee84616c645c",
   "metadata": {},
   "source": [
    "The dataset that we will use is the “Rain in Australia” dataset by Joe Young and Adam Young. This dataset contains meteorological data across 10 years in Australia from 2007/10/31 to 2017/6/24 in various regions, collected by weather stations across Australia. The dataset contains variables such as weather conditions - wind speed, wind direction and temperature, as well the amount of precipitation in the form of rain on any given day."
   ]
  },
  {
   "cell_type": "markdown",
   "id": "279b13f8-9c90-446c-be99-7fa3d02eccb7",
   "metadata": {},
   "source": [
    "## 2.0 Preliminiary Exploratory Data Analysis"
   ]
  },
  {
   "cell_type": "markdown",
   "id": "33056bc1-ab80-4a4a-baf3-322df4601f53",
   "metadata": {},
   "source": [
    "#### 2.1 Wrangling"
   ]
  },
  {
   "cell_type": "markdown",
   "id": "fdce73f5-d758-4cb5-aa6b-2da3a41b4a94",
   "metadata": {},
   "source": [
    "To aid in our decision for predictor variables, we can visualize which columns are present with the most valid data (least NA columns). A larger sample of data would allow us to reduce the impact of factors such as random error in the observation process and improve the overall quality of the analysis. "
   ]
  },
  {
   "cell_type": "code",
   "execution_count": 18,
   "id": "1c0e47f2-466f-4970-a889-e8e98b35d17f",
   "metadata": {},
   "outputs": [],
   "source": [
    "#load tidyverse\n",
    "library(tidyverse)\n",
    "library(tidymodels)"
   ]
  },
  {
   "cell_type": "code",
   "execution_count": 19,
   "id": "cdc307dd-cba3-4b69-809f-0a14c4ef3fbc",
   "metadata": {},
   "outputs": [
    {
     "name": "stderr",
     "output_type": "stream",
     "text": [
      "\u001b[1mRows: \u001b[22m\u001b[34m145460\u001b[39m \u001b[1mColumns: \u001b[22m\u001b[34m23\u001b[39m\n",
      "\u001b[36m──\u001b[39m \u001b[1mColumn specification\u001b[22m \u001b[36m────────────────────────────────────────────────────────\u001b[39m\n",
      "\u001b[1mDelimiter:\u001b[22m \",\"\n",
      "\u001b[31mchr\u001b[39m   (6): Location, WindGustDir, WindDir9am, WindDir3pm, RainToday, RainTom...\n",
      "\u001b[32mdbl\u001b[39m  (16): MinTemp, MaxTemp, Rainfall, Evaporation, Sunshine, WindGustSpeed,...\n",
      "\u001b[34mdate\u001b[39m  (1): Date\n",
      "\n",
      "\u001b[36mℹ\u001b[39m Use `spec()` to retrieve the full column specification for this data.\n",
      "\u001b[36mℹ\u001b[39m Specify the column types or set `show_col_types = FALSE` to quiet this message.\n"
     ]
    }
   ],
   "source": [
    "#load data into r\n",
    "weather_data_raw <- read_csv(\"weatherAUS.csv\")"
   ]
  },
  {
   "cell_type": "code",
   "execution_count": 20,
   "id": "41ec041b-ffa1-473a-94fa-172464d4cea4",
   "metadata": {},
   "outputs": [],
   "source": [
    "# Select three cities for analysis\n",
    "\n",
    "options(repr.plot.width =14, repr.plot.height = 8) \n",
    "\n",
    "#Remove categorical variables & variables with too many N/A values (Wrangle Data)\n",
    "weather_data_clean <- weather_data_raw |>\n",
    "                            select(-WindGustDir, -WindDir9am, -WindDir3pm, -RainToday, -Date, -Location) |>\n",
    "                            select(-Sunshine, -Evaporation, -Cloud3pm, -Cloud9am)"
   ]
  },
  {
   "cell_type": "code",
   "execution_count": null,
   "id": "de02662f-f9d3-4476-bf68-c607e9dac2ad",
   "metadata": {},
   "outputs": [],
   "source": [
    "# Split training and testing sets\n",
    "weather_split <- initial_split(weather_data_clean, prop = 0.75, strata = RainTomorrow)\n",
    "weather_train <- training(weather_split)\n",
    "weather_test <- testing(weather_split)"
   ]
  },
  {
   "cell_type": "markdown",
   "id": "62176d93-0cbf-40a1-a949-d4a84a3b1fab",
   "metadata": {},
   "source": [
    "#### 2.2 Summarizing New Non N/A Rows\n",
    "We can now check the distributions of usable rows within our training data by summarizing and counting the number of non N/A rows within our training data."
   ]
  },
  {
   "cell_type": "code",
   "execution_count": 23,
   "id": "2ed2a04c-4a2f-4bda-80a3-d08ece8e6be2",
   "metadata": {},
   "outputs": [
    {
     "data": {
      "text/html": [
       "<table class=\"dataframe\">\n",
       "<caption>A data.frame: 13 × 2</caption>\n",
       "<thead>\n",
       "\t<tr><th scope=col>measurement</th><th scope=col>count</th></tr>\n",
       "\t<tr><th scope=col>&lt;chr&gt;</th><th scope=col>&lt;dbl&gt;</th></tr>\n",
       "</thead>\n",
       "<tbody>\n",
       "\t<tr><td>MaxTemp      </td><td>108159</td></tr>\n",
       "\t<tr><td>MinTemp      </td><td>107996</td></tr>\n",
       "\t<tr><td>WindSpeed9am </td><td>107820</td></tr>\n",
       "\t<tr><td>Temp9am      </td><td>107791</td></tr>\n",
       "\t<tr><td>Humidity9am  </td><td>107130</td></tr>\n",
       "\t<tr><td>WindSpeed3pm </td><td>106814</td></tr>\n",
       "\t<tr><td>Rainfall     </td><td>106676</td></tr>\n",
       "\t<tr><td>RainTomorrow </td><td>106646</td></tr>\n",
       "\t<tr><td>Temp3pm      </td><td>106382</td></tr>\n",
       "\t<tr><td>Humidity3pm  </td><td>105717</td></tr>\n",
       "\t<tr><td>WindGustSpeed</td><td>101424</td></tr>\n",
       "\t<tr><td>Pressure3pm  </td><td> 97847</td></tr>\n",
       "\t<tr><td>Pressure9am  </td><td> 97835</td></tr>\n",
       "</tbody>\n",
       "</table>\n"
      ],
      "text/latex": [
       "A data.frame: 13 × 2\n",
       "\\begin{tabular}{ll}\n",
       " measurement & count\\\\\n",
       " <chr> & <dbl>\\\\\n",
       "\\hline\n",
       "\t MaxTemp       & 108159\\\\\n",
       "\t MinTemp       & 107996\\\\\n",
       "\t WindSpeed9am  & 107820\\\\\n",
       "\t Temp9am       & 107791\\\\\n",
       "\t Humidity9am   & 107130\\\\\n",
       "\t WindSpeed3pm  & 106814\\\\\n",
       "\t Rainfall      & 106676\\\\\n",
       "\t RainTomorrow  & 106646\\\\\n",
       "\t Temp3pm       & 106382\\\\\n",
       "\t Humidity3pm   & 105717\\\\\n",
       "\t WindGustSpeed & 101424\\\\\n",
       "\t Pressure3pm   &  97847\\\\\n",
       "\t Pressure9am   &  97835\\\\\n",
       "\\end{tabular}\n"
      ],
      "text/markdown": [
       "\n",
       "A data.frame: 13 × 2\n",
       "\n",
       "| measurement &lt;chr&gt; | count &lt;dbl&gt; |\n",
       "|---|---|\n",
       "| MaxTemp       | 108159 |\n",
       "| MinTemp       | 107996 |\n",
       "| WindSpeed9am  | 107820 |\n",
       "| Temp9am       | 107791 |\n",
       "| Humidity9am   | 107130 |\n",
       "| WindSpeed3pm  | 106814 |\n",
       "| Rainfall      | 106676 |\n",
       "| RainTomorrow  | 106646 |\n",
       "| Temp3pm       | 106382 |\n",
       "| Humidity3pm   | 105717 |\n",
       "| WindGustSpeed | 101424 |\n",
       "| Pressure3pm   |  97847 |\n",
       "| Pressure9am   |  97835 |\n",
       "\n"
      ],
      "text/plain": [
       "   measurement   count \n",
       "1  MaxTemp       108159\n",
       "2  MinTemp       107996\n",
       "3  WindSpeed9am  107820\n",
       "4  Temp9am       107791\n",
       "5  Humidity9am   107130\n",
       "6  WindSpeed3pm  106814\n",
       "7  Rainfall      106676\n",
       "8  RainTomorrow  106646\n",
       "9  Temp3pm       106382\n",
       "10 Humidity3pm   105717\n",
       "11 WindGustSpeed 101424\n",
       "12 Pressure3pm    97847\n",
       "13 Pressure9am    97835"
      ]
     },
     "metadata": {},
     "output_type": "display_data"
    }
   ],
   "source": [
    "# Summarizes each row by counting non N/A cells. Renames the variables afterwards after conversion to data frame\n",
    "no_na_data <- as.data.frame((colSums(!is.na(weather_train)))) \n",
    "no_na_data <- cbind(rownames(no_na_data), no_na_data)\n",
    "rownames(no_na_data) <- NULL\n",
    "colnames(no_na_data) <- c(\"measurement\",\"count\")\n",
    "\n",
    "count_tbl <- arrange(no_na_data, desc(count))\n",
    "count_tbl"
   ]
  },
  {
   "cell_type": "markdown",
   "id": "c02ec292-ea60-440d-b6c1-ecfd9ecde24b",
   "metadata": {},
   "source": [
    "## 3.0 Methods"
   ]
  },
  {
   "cell_type": "markdown",
   "id": "7de15bf5-ee15-4da6-a905-cbb6027a985a",
   "metadata": {},
   "source": [
    "#### 3.1 Explain how you will conduct either your data analysis and which variables/columns you will use"
   ]
  },
  {
   "cell_type": "markdown",
   "id": "abe8a0f1-d894-4031-ae31-327c29af30a9",
   "metadata": {},
   "source": [
    "The columns we plan to use are those quantifying the day’s weather with the least number of NA-observation counts. This includes minimum temperature, max temperature, rainfall level, humidity ,and windspeed. This has been proved by listing out the rows containing NA value with colSums!(is.na) function. Also, we will be plotting facet_grid histograms to compare the distributions of each predictor variable.\n"
   ]
  },
  {
   "cell_type": "markdown",
   "id": "419d6f87-ae8e-4bce-b734-b0cd781e954d",
   "metadata": {},
   "source": [
    "#### 3.2 Describe at least one way that you will visualize the results"
   ]
  },
  {
   "cell_type": "markdown",
   "id": "3f4b5a2b-7f57-4225-ba79-4d11759e7517",
   "metadata": {},
   "source": [
    "We will make scatterplots to visualize the relationship between each pair of variables, such as “rainfall level” and “humidity”, and colored by the target variable to see if there is any pattern distinguishing whether it rains tomorrow or not."
   ]
  },
  {
   "cell_type": "markdown",
   "id": "a726ebcd-f07a-4cb5-b762-2dcaed7c40ed",
   "metadata": {},
   "source": [
    "## 4.0 Expected Outcomes and Significance:"
   ]
  },
  {
   "cell_type": "markdown",
   "id": "e102a928-d4e5-4f5a-8178-cd0b60bce6cd",
   "metadata": {},
   "source": [
    "#### 4.1 Expected Outcomes"
   ]
  },
  {
   "cell_type": "markdown",
   "id": "1f8e8be5-64c0-46a5-971d-62d1699d2064",
   "metadata": {},
   "source": [
    "We are expecting to create a design with an arithmetic trend with a specific date’s information to determine whether the next day rains. Therefore, the expected outcome would be accurately predicting the occurrence of rain on the next day."
   ]
  },
  {
   "cell_type": "markdown",
   "id": "1341b668-56fa-45d7-b1a3-8c8f382decad",
   "metadata": {},
   "source": [
    "#### 4.2 Significance of Investigation"
   ]
  },
  {
   "cell_type": "markdown",
   "id": "db890a49-0e6d-4fb9-9cd1-933b43325c9f",
   "metadata": {},
   "source": [
    "The significance of this analysis lies in the immense impact that weather and in particular, rain, has on society. Being able to predict rain is not only beneficial for day-to-day life but quintessential for industries such as agriculture, tourism, and urban development"
   ]
  },
  {
   "cell_type": "markdown",
   "id": "b21b9de4-7019-441d-93d7-f7aaa22615ef",
   "metadata": {},
   "source": [
    "#### 4.3 Extended/Further Questions"
   ]
  },
  {
   "cell_type": "markdown",
   "id": "1976b078-0d41-40cd-909a-42abc9da0340",
   "metadata": {},
   "source": [
    "Investigating precipitation further in the future can prompt inquiries on how rain patterns have evolved throughout the last decade. Furthermore, this investigation can also prompt further analysis into how accurate our model can be when compared to modern circumstances."
   ]
  },
  {
   "cell_type": "code",
   "execution_count": null,
   "id": "636f34b7-1196-456f-ac43-28c4437609ab",
   "metadata": {},
   "outputs": [],
   "source": []
  }
 ],
 "metadata": {
  "kernelspec": {
   "display_name": "R",
   "language": "R",
   "name": "ir"
  },
  "language_info": {
   "codemirror_mode": "r",
   "file_extension": ".r",
   "mimetype": "text/x-r-source",
   "name": "R",
   "pygments_lexer": "r",
   "version": "4.3.1"
  }
 },
 "nbformat": 4,
 "nbformat_minor": 5
}
